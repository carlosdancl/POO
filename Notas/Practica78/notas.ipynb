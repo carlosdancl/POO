{
 "cells": [
  {
   "cell_type": "markdown",
   "id": "d693d109",
   "metadata": {},
   "source": [
    "# **Practica 7 y 8: Herencia y Polimorfismo**"
   ]
  },
  {
   "cell_type": "markdown",
   "id": "0e0c098f",
   "metadata": {},
   "source": [
    "- Extensión de Funcionalidades\n",
    "Object es una super clase / clase base\n",
    "Objet <- Clase Padre/Base ó SuperClase\n",
    "Clase Propia <- Clase Hija Derivada ó SubClase\n",
    "\n",
    "Herencia. Es el proceso que implica creación de clases ya existentes, permitiendo agregar más funcionalidades.\n",
    "\n",
    "### **Motivaciones para uso de herencia**\n",
    "- Promover la reutilización de código\n",
    "- Para usar polimorfismo\n",
    "\n",
    "### **Sintaxis**\n",
    "Modificador class NombreSubClase\n",
    "extends NombreSuperClase\n",
    "\n",
    "#### **Empleado**\n",
    "- nombre (String)\n",
    "- numEmpleado, sueldo (int)\n",
    "-------------------------\n",
    "aumentarSueldo (int)\n",
    "\n",
    "$<-$\n",
    "\n",
    "#### **Gerente**\n",
    "- presupuesto (int)\n",
    "-------------------------\n",
    "asignarPresupuesto(int)\n",
    "\n",
    "### **Relación IS-A**\n",
    "Permite afirmar que un objeto es un tipo (clase) específico.\n",
    "\n",
    "### **Relación HAS-A**\n",
    "Si el código en la clase X tiene como atributo una referencia de la clase Y.\n",
    "\n",
    "### **Sobreescritura (Overriding)**\n",
    "\n",
    "Es la Habilidad de **redefinir** el comportamiento de un método específico en una subClase, generando comportamiento acorde a las necesidades de cada clase.\n",
    "\n",
    "### **Características *@override***\n",
    "Debe tener el mismo nombre\n",
    "Debe tener el mismo tipo y número de parámetros.\n",
    "El nivel de acceso debe ser igual o más accesible.\n",
    "El valor de retorno debe ser del mismo tipo o subtipo.\n",
    "\n",
    "### **Acceso**\n",
    "\n",
    "Para acceder a métodos de la clase base se usa palabra reservada, **super**, también para constructores."
   ]
  }
 ],
 "metadata": {
  "language_info": {
   "name": "python"
  }
 },
 "nbformat": 4,
 "nbformat_minor": 5
}
